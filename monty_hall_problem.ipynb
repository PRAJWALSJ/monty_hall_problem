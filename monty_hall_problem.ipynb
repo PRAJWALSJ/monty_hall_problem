{
 "cells": [
  {
   "cell_type": "code",
   "execution_count": 9,
   "id": "2ff770d0",
   "metadata": {},
   "outputs": [
    {
     "name": "stdout",
     "output_type": "stream",
     "text": [
      "This is the Monty Hall problem.\n",
      "There are 3 doors in front of you, and there is a prize behind one of them.\n",
      "Once you select a door, I will open one of the two you had not selected which does not have a prize behind it.\n",
      "You will then have the opportunity to switch from the door you originally selected to an alternate door.\n",
      "Select door 'A', 'B', or 'C': A\n",
      "This problem relies on conditional probabilities. It is suggested that you switch doors, you will have a higher probability of winning if you do so.\n",
      "The door I will now open is: 'C'\n",
      "Would you like to select the third door? Type 'Yes' or 'No': Yes\n",
      "The door you will switch to is: 'B' \n",
      "Congrats, you win! The prize was behind the alternate, 'B'\n",
      "This is a check: $1000\n"
     ]
    }
   ],
   "source": [
    "print(\"This is the Monty Hall problem.\\n\" \n",
    "      \"There are 3 doors in front of you, and there is a prize behind one of them.\\n\" \n",
    "      \"Once you select a door, I will open one of the two you had not selected which does not have a prize behind it.\\n\" \n",
    "      \"You will then have the opportunity to switch from the door you originally selected to an alternate door.\")\n",
    "\n",
    "\n",
    "import random\n",
    "\n",
    "A = \"A\"\n",
    "B = \"B\"\n",
    "C = \"C\"\n",
    "\n",
    "doors = [\"A\", \"B\", \"C\"]\n",
    "\n",
    "prize = random.choice(doors)\n",
    "\n",
    "selection = input(\"Select door 'A', 'B', or 'C': \")\n",
    "\n",
    "print(\"This problem relies on conditional probabilities. It is suggested that you switch doors, you will have a higher probability of winning if you do so.\")\n",
    "\n",
    "\n",
    "if selection == prize:\n",
    "        remaining = list(set(doors) - set(prize))\n",
    "        open_door = random.choice(list(set(doors) - set(random.choice(remaining))))\n",
    "        alternate = random.choice(list(set(doors) - set(open_door) - set(prize)))\n",
    "\n",
    "else:\n",
    "        open_door = random.choice(list(set(doors) - set(selection) - set(prize)))\n",
    "        alternate = random.choice(list(set(doors) - set(open_door) - set(selection)))\n",
    "\n",
    "print(\"The door I will now open is: %r\" % open_door)\n",
    "\n",
    "second_chance = input(\"Would you like to select the third door? Type 'Yes' or 'No': \")\n",
    "\n",
    "if second_chance == \"Yes\":\n",
    "        print(\"The door you will switch to is: %r \" % alternate)\n",
    "\n",
    "        if alternate == prize:\n",
    "                print(\"Congrats, you win! The prize was behind the alternate, %r\" % alternate)\n",
    "        else:\n",
    "                print(\"Sorry, the prize was behind the original door %r\" % prize)\n",
    "\n",
    "\n",
    "if second_chance != \"Yes\":\n",
    "        print(\"You decided to keep your initial door, %r\" % selection)\n",
    "        if selection != prize:\n",
    "                print(\"Sorry, the prize was behind the alternate door, %r\" % prize)\n",
    "        else:\n",
    "                print(\"Congrats, you win! The prize was behind your original selection, %r\" % selection)\n",
    "\n",
    "\n",
    "print(\"This is a check: $1000\")\n"
   ]
  },
  {
   "cell_type": "code",
   "execution_count": null,
   "id": "8ecfc388",
   "metadata": {},
   "outputs": [],
   "source": []
  }
 ],
 "metadata": {
  "kernelspec": {
   "display_name": "Python 3 (ipykernel)",
   "language": "python",
   "name": "python3"
  },
  "language_info": {
   "codemirror_mode": {
    "name": "ipython",
    "version": 3
   },
   "file_extension": ".py",
   "mimetype": "text/x-python",
   "name": "python",
   "nbconvert_exporter": "python",
   "pygments_lexer": "ipython3",
   "version": "3.9.12"
  }
 },
 "nbformat": 4,
 "nbformat_minor": 5
}
